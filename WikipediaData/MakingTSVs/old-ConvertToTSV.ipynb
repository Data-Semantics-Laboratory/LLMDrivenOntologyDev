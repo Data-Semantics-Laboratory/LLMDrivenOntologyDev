{
 "cells": [
  {
   "cell_type": "markdown",
   "metadata": {},
   "source": [
    "## Making TSVs from ~200 individuals that are both in Enslaved and Wikidata.\n",
    "\n",
    "### Each TSV should contain the triples from Wikidata as:\n",
    "Subject ->  Predicate   -> Object"
   ]
  },
  {
   "cell_type": "code",
   "execution_count": null,
   "metadata": {},
   "outputs": [],
   "source": []
  }
 ],
 "metadata": {
  "language_info": {
   "name": "python"
  }
 },
 "nbformat": 4,
 "nbformat_minor": 2
}
