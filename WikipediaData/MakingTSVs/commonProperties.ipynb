{
 "cells": [
  {
   "cell_type": "code",
   "execution_count": 7,
   "metadata": {},
   "outputs": [
    {
     "name": "stdout",
     "output_type": "stream",
     "text": [
      "Leonard Black.ttl\n",
      "Florence Baker.ttl\n",
      "Gustav Badin.ttl\n",
      "Thomas James (minister).ttl\n",
      "Amanda America Dickson.ttl\n"
     ]
    }
   ],
   "source": [
    "import os\n",
    "\n",
    "directory = \"TTLFiles\"\n",
    "\n",
    "for filename in os.listdir(directory):\n",
    "    file = open(directory + \"/\" + filename, \"r\")\n",
    "    contents = file.read()\n",
    "    if \"Q22893595\" not in contents:\n",
    "        if \"Q12773225\" not in contents:\n",
    "            if \"Q10076267\" not in contents:\n",
    "                print(filename)"
   ]
  }
 ],
 "metadata": {
  "kernelspec": {
   "display_name": "Python 3",
   "language": "python",
   "name": "python3"
  },
  "language_info": {
   "codemirror_mode": {
    "name": "ipython",
    "version": 3
   },
   "file_extension": ".py",
   "mimetype": "text/x-python",
   "name": "python",
   "nbconvert_exporter": "python",
   "pygments_lexer": "ipython3",
   "version": "3.11.8"
  }
 },
 "nbformat": 4,
 "nbformat_minor": 2
}
