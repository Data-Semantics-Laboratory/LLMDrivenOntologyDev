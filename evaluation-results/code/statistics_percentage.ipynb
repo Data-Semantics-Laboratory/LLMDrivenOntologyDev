{
  "nbformat": 4,
  "nbformat_minor": 0,
  "metadata": {
    "colab": {
      "provenance": []
    },
    "kernelspec": {
      "name": "python3",
      "display_name": "Python 3"
    },
    "language_info": {
      "name": "python"
    }
  },
  "cells": [
    {
      "cell_type": "code",
      "execution_count": null,
      "metadata": {
        "colab": {
          "base_uri": "https://localhost:8080/"
        },
        "id": "hPH7mqck8mTc",
        "outputId": "e49ea640-7325-4b9b-8352-e4ac911b23c1"
      },
      "outputs": [
        {
          "output_type": "stream",
          "name": "stdout",
          "text": [
            "Mounted at /content/drive\n"
          ]
        }
      ],
      "source": [
        "from google.colab import drive\n",
        "drive.mount('/content/drive')"
      ]
    },
    {
      "cell_type": "code",
      "source": [
        "import os\n",
        "import re\n",
        "import pandas as pd\n",
        "\n",
        "# Root directory containing the subdirectories , change depending where data is located\n",
        "root_directory = '/content/drive/My Drive/LLM-Data/percentages/'\n",
        "\n",
        "# Process each subdirectory\n",
        "def process_subdirectory(subdirectory):\n",
        "    # Lists to hold percentages\n",
        "    percentages = []\n",
        "\n",
        "    # Iterate over all files in the subdirectory\n",
        "    for filename in os.listdir(subdirectory):\n",
        "        if filename.endswith('.txt'):\n",
        "            file_path = os.path.join(subdirectory, filename)\n",
        "\n",
        "            # Read the content of the file\n",
        "            with open(file_path, 'r') as file:\n",
        "                content = file.read()\n",
        "\n",
        "\n",
        "                match = re.search(r'Percentage of Good Matches:\\s*([\\d.]+)%', content)\n",
        "                if match:\n",
        "                    percentage = float(match.group(1))\n",
        "                    percentages.append(percentage)\n",
        "\n",
        "    if percentages:\n",
        "        # Calculate max, min, average\n",
        "        max_percentage = max(percentages)\n",
        "        min_percentage = min(percentages)\n",
        "        avg_percentage = sum(percentages) / len(percentages)\n",
        "\n",
        "        # Calculate total unique comparisons\n",
        "        total_unique_comparisons = len(percentages)\n",
        "        total_percent_coverage = sum(percentages) / total_unique_comparisons if total_unique_comparisons > 0 else 0\n",
        "\n",
        "        return {\n",
        "            'Max Percentage': max_percentage,\n",
        "            'Min Percentage': min_percentage,\n",
        "            'Average Percentage': avg_percentage,\n",
        "            'Total Unique Comparisons': total_unique_comparisons,\n",
        "            'Total Percentage Coverage': total_percent_coverage\n",
        "        }\n",
        "    return None\n",
        "\n",
        "# Process each subdirectory and create a CSV for each\n",
        "for subdirectory in os.listdir(root_directory):\n",
        "    subdirectory_path = os.path.join(root_directory, subdirectory)\n",
        "\n",
        "    if os.path.isdir(subdirectory_path):\n",
        "        print(f\"Processing subdirectory: {subdirectory_path}\")\n",
        "        stats = process_subdirectory(subdirectory_path)\n",
        "\n",
        "        if stats:\n",
        "            # Prepare a DataFrame for the current subdirectory's results\n",
        "            results_df = pd.DataFrame([{\n",
        "                'Subdirectory': subdirectory,\n",
        "                'Max Percentage': stats['Max Percentage'],\n",
        "                'Min Percentage': stats['Min Percentage'],\n",
        "                'Average Percentage': stats['Average Percentage'],\n",
        "                'Total Unique Comparisons': stats['Total Unique Comparisons'],\n",
        "                'Total Percentage Coverage': stats['Total Percentage Coverage']\n",
        "            }])\n",
        "\n",
        "            # Save the results to a CSV file named after the subdirectory\n",
        "            output_csv_path = os.path.join(subdirectory_path, f'{subdirectory}_summary_results.csv')\n",
        "            results_df.to_csv(output_csv_path, index=False)\n",
        "\n",
        "            print(f\"Summary results saved to: {output_csv_path}\")\n"
      ],
      "metadata": {
        "colab": {
          "base_uri": "https://localhost:8080/"
        },
        "id": "dOYidMOc8ylC",
        "outputId": "06b066b3-a886-473d-e3fb-48499b6455e2"
      },
      "execution_count": null,
      "outputs": [
        {
          "output_type": "stream",
          "name": "stdout",
          "text": [
            "Processing subdirectory: /content/drive/My Drive/LLM-Data/percentages/GPT4_Enslaved_MainAgent\n",
            "Summary results saved to: /content/drive/My Drive/LLM-Data/percentages/GPT4_Enslaved_MainAgent/GPT4_Enslaved_MainAgent_summary_results.csv\n",
            "Processing subdirectory: /content/drive/My Drive/LLM-Data/percentages/GPT4_WB_MainAgent\n",
            "Summary results saved to: /content/drive/My Drive/LLM-Data/percentages/GPT4_WB_MainAgent/GPT4_WB_MainAgent_summary_results.csv\n",
            "Processing subdirectory: /content/drive/My Drive/LLM-Data/percentages/triples_GPT-4_WB\n",
            "Summary results saved to: /content/drive/My Drive/LLM-Data/percentages/triples_GPT-4_WB/triples_GPT-4_WB_summary_results.csv\n",
            "Processing subdirectory: /content/drive/My Drive/LLM-Data/percentages/triples_GPT-4_Enslaved\n",
            "Summary results saved to: /content/drive/My Drive/LLM-Data/percentages/triples_GPT-4_Enslaved/triples_GPT-4_Enslaved_summary_results.csv\n",
            "Processing subdirectory: /content/drive/My Drive/LLM-Data/percentages/llama_WB_notrestrictedToMAgent\n",
            "Summary results saved to: /content/drive/My Drive/LLM-Data/percentages/llama_WB_notrestrictedToMAgent/llama_WB_notrestrictedToMAgent_summary_results.csv\n",
            "Processing subdirectory: /content/drive/My Drive/LLM-Data/percentages/llama_WB_MainAgent\n",
            "Summary results saved to: /content/drive/My Drive/LLM-Data/percentages/llama_WB_MainAgent/llama_WB_MainAgent_summary_results.csv\n",
            "Processing subdirectory: /content/drive/My Drive/LLM-Data/percentages/GPT4_WB_notrestrictedToMAgent\n",
            "Summary results saved to: /content/drive/My Drive/LLM-Data/percentages/GPT4_WB_notrestrictedToMAgent/GPT4_WB_notrestrictedToMAgent_summary_results.csv\n",
            "Processing subdirectory: /content/drive/My Drive/LLM-Data/percentages/GPT4_Enslaved_notrestrictedToMAgent\n",
            "Summary results saved to: /content/drive/My Drive/LLM-Data/percentages/GPT4_Enslaved_notrestrictedToMAgent/GPT4_Enslaved_notrestrictedToMAgent_summary_results.csv\n"
          ]
        }
      ]
    }
  ]
}